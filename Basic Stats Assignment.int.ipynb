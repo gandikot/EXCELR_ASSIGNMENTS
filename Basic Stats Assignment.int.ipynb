{
 "cells": [
  {
   "cell_type": "code",
   "execution_count": 1,
   "metadata": {},
   "outputs": [],
   "source": [
    "import pandas as pd\n",
    "import numpy as np\n",
    "import matplotlib.pyplot as plt\n"
   ]
  },
  {
   "cell_type": "code",
   "execution_count": 6,
   "metadata": {},
   "outputs": [],
   "source": [
    "sales_data = pd.read_csv('sales_data_with_discounts.csv')"
   ]
  },
  {
   "cell_type": "code",
   "execution_count": 7,
   "metadata": {},
   "outputs": [
    {
     "name": "stdout",
     "output_type": "stream",
     "text": [
      "         Date       Day  SKU City  Volume       BU  Brand       Model  \\\n",
      "0  01-04-2021  Thursday  M01    C      15  Mobiles  RealU       RU-10   \n",
      "1  01-04-2021  Thursday  M02    C      10  Mobiles  RealU   RU-9 Plus   \n",
      "2  01-04-2021  Thursday  M03    C       7  Mobiles   YouM       YM-99   \n",
      "3  01-04-2021  Thursday  M04    C       6  Mobiles   YouM  YM-99 Plus   \n",
      "4  01-04-2021  Thursday  M05    C       3  Mobiles   YouM      YM-98    \n",
      "\n",
      "   Avg Price  Total Sales Value  Discount Rate (%)  Discount Amount  \\\n",
      "0      12100             181500          11.654820     21153.498820   \n",
      "1      10100             101000          11.560498     11676.102960   \n",
      "2      16100             112700           9.456886     10657.910160   \n",
      "3      20100             120600           6.935385      8364.074702   \n",
      "4       8100              24300          17.995664      4372.946230   \n",
      "\n",
      "   Net Sales Value  \n",
      "0     160346.50120  \n",
      "1      89323.89704  \n",
      "2     102042.08980  \n",
      "3     112235.92530  \n",
      "4      19927.05377  \n"
     ]
    }
   ],
   "source": [
    "print(sales_data.head())"
   ]
  },
  {
   "cell_type": "code",
   "execution_count": 8,
   "metadata": {},
   "outputs": [
    {
     "name": "stdout",
     "output_type": "stream",
     "text": [
      "           Volume     Avg Price  Total Sales Value  Discount Rate (%)  \\\n",
      "count  450.000000    450.000000         450.000000         450.000000   \n",
      "mean     5.066667  10453.433333       33812.835556          15.155242   \n",
      "std      4.231602  18079.904840       50535.074173           4.220602   \n",
      "min      1.000000    290.000000         400.000000           5.007822   \n",
      "25%      3.000000    465.000000        2700.000000          13.965063   \n",
      "50%      4.000000   1450.000000        5700.000000          16.577766   \n",
      "75%      6.000000  10100.000000       53200.000000          18.114718   \n",
      "max     31.000000  60100.000000      196400.000000          19.992407   \n",
      "\n",
      "       Discount Amount  Net Sales Value  \n",
      "count       450.000000       450.000000  \n",
      "mean       3346.499424     30466.336131  \n",
      "std        4509.902963     46358.656624  \n",
      "min          69.177942       326.974801  \n",
      "25%         460.459304      2202.208645  \n",
      "50%         988.933733      4677.788059  \n",
      "75%        5316.495426     47847.912855  \n",
      "max       25738.022190    179507.479000  \n"
     ]
    }
   ],
   "source": [
    "print(sales_data.describe())"
   ]
  },
  {
   "cell_type": "code",
   "execution_count": 12,
   "metadata": {},
   "outputs": [
    {
     "name": "stdout",
     "output_type": "stream",
     "text": [
      "           Volume     Avg Price  Total Sales Value  Discount Rate (%)  \\\n",
      "count  450.000000    450.000000         450.000000         450.000000   \n",
      "mean     5.066667  10453.433333       33812.835556          15.155242   \n",
      "std      4.231602  18079.904840       50535.074173           4.220602   \n",
      "min      1.000000    290.000000         400.000000           5.007822   \n",
      "25%      3.000000    465.000000        2700.000000          13.965063   \n",
      "50%      4.000000   1450.000000        5700.000000          16.577766   \n",
      "75%      6.000000  10100.000000       53200.000000          18.114718   \n",
      "max     31.000000  60100.000000      196400.000000          19.992407   \n",
      "\n",
      "       Discount Amount  Net Sales Value  \n",
      "count       450.000000       450.000000  \n",
      "mean       3346.499424     30466.336131  \n",
      "std        4509.902963     46358.656624  \n",
      "min          69.177942       326.974801  \n",
      "25%         460.459304      2202.208645  \n",
      "50%         988.933733      4677.788059  \n",
      "75%        5316.495426     47847.912855  \n",
      "max       25738.022190    179507.479000  \n"
     ]
    }
   ],
   "source": [
    "# Get the summary statistics of the data\n",
    "print(sales_data.describe())\n",
    "\n"
   ]
  },
  {
   "cell_type": "code",
   "execution_count": 13,
   "metadata": {},
   "outputs": [
    {
     "name": "stdout",
     "output_type": "stream",
     "text": [
      "Index(['Date', 'Day', 'SKU', 'City', 'Volume', 'BU', 'Brand', 'Model',\n",
      "       'Avg Price', 'Total Sales Value', 'Discount Rate (%)',\n",
      "       'Discount Amount', 'Net Sales Value'],\n",
      "      dtype='object')\n"
     ]
    }
   ],
   "source": [
    "# Check the column names of the sales data\n",
    "print(sales_data.columns)\n"
   ]
  },
  {
   "cell_type": "code",
   "execution_count": 14,
   "metadata": {},
   "outputs": [],
   "source": [
    "# Calculate the mean, median, and standard deviation of the sales data\n",
    "mean_sales = sales_data['Sales'].mean() if 'Sales' in sales_data.columns else np.nan\n",
    "median_sales = sales_data['Sales'].median() if 'Sales' in sales_data.columns else np.nan\n",
    "std_dev_sales = sales_data['Sales'].std() if 'Sales' in sales_data.columns else np.nan\n"
   ]
  },
  {
   "cell_type": "code",
   "execution_count": 15,
   "metadata": {},
   "outputs": [
    {
     "name": "stdout",
     "output_type": "stream",
     "text": [
      "Mean Sales: nan\n",
      "Median Sales: nan\n",
      "Standard Deviation of Sales: nan\n"
     ]
    }
   ],
   "source": [
    "print(f'Mean Sales: {mean_sales}')\n",
    "print(f'Median Sales: {median_sales}')\n",
    "print(f'Standard Deviation of Sales: {std_dev_sales}')\n"
   ]
  },
  {
   "cell_type": "code",
   "execution_count": 16,
   "metadata": {},
   "outputs": [
    {
     "data": {
      "image/png": "[encoded data removed]",
      "text/plain": [
       "<Figure size 432x288 with 1 Axes>"
      ]
     },
     "metadata": {
      "needs_background": "light"
     },
     "output_type": "display_data"
    }
   ],
   "source": [
    "# Plot a histogram of the sales data\n",
    "plt.hist(sales_data['Sales'], bins=50) if 'Sales' in sales_data.columns else plt.plot([])\n",
    "plt.title('Histogram of Sales')\n",
    "plt.xlabel('Sales')\n",
    "plt.ylabel('Frequency')\n",
    "plt.show()\n"
   ]
  },
  {
   "cell_type": "code",
   "execution_count": 17,
   "metadata": {},
   "outputs": [
    {
     "name": "stdout",
     "output_type": "stream",
     "text": [
      "                     Volume  Avg Price  Total Sales Value  Discount Rate (%)  \\\n",
      "Volume             1.000000  -0.250878          -0.034789           0.157972   \n",
      "Avg Price         -0.250878   1.000000           0.831978          -0.831582   \n",
      "Total Sales Value -0.034789   0.831978           1.000000          -0.835431   \n",
      "Discount Rate (%)  0.157972  -0.831582          -0.835431           1.000000   \n",
      "Discount Amount    0.066297   0.676007           0.932410          -0.657607   \n",
      "Net Sales Value   -0.044373   0.841166           0.999382          -0.846720   \n",
      "\n",
      "                   Discount Amount  Net Sales Value  \n",
      "Volume                    0.066297        -0.044373  \n",
      "Avg Price                 0.676007         0.841166  \n",
      "Total Sales Value         0.932410         0.999382  \n",
      "Discount Rate (%)        -0.657607        -0.846720  \n",
      "Discount Amount           1.000000         0.919127  \n",
      "Net Sales Value           0.919127         1.000000  \n"
     ]
    }
   ],
   "source": [
    "# Calculate the correlation between the sales data and other variables\n",
    "correlation_matrix = sales_data.corr()\n",
    "print(correlation_matrix)\n"
   ]
  },
  {
   "cell_type": "code",
   "execution_count": 19,
   "metadata": {},
   "outputs": [
    {
     "data": {
      "text/plain": [
       "Text(0.5, 1.0, 'Scatter Plot of Sales vs Discount')"
      ]
     },
     "execution_count": 19,
     "metadata": {},
     "output_type": "execute_result"
    },
    {
     "data": {
      "image/png": "[encoded data removed]",
      "text/plain": [
       "<Figure size 432x288 with 1 Axes>"
      ]
     },
     "metadata": {
      "needs_background": "light"
     },
     "output_type": "display_data"
    }
   ],
   "source": [
    "# Plot a scatter plot of the sales data against another variable\n",
    "plt.scatter(sales_data['Discount'], sales_data['Sales']) if 'Sales' in sales_data.columns else plt.plot([])\n",
    "plt.title('Scatter Plot of Sales vs Discount')\n",
    "\n",
    "\n",
    "\n"
   ]
  },
  {
   "cell_type": "code",
   "execution_count": null,
   "metadata": {},
   "outputs": [],
   "source": []
  }
 ],
 "metadata": {
  "kernelspec": {
   "display_name": "Python 3",
   "language": "python",
   "name": "python3"
  },
  "language_info": {
   "codemirror_mode": {
    "name": "ipython",
    "version": 3
   },
   "file_extension": ".py",
   "mimetype": "text/x-python",
   "name": "python",
   "nbconvert_exporter": "python",
   "pygments_lexer": "ipython3",
   "version": "3.8.5"
  }
 },
 "nbformat": 4,
 "nbformat_minor": 4
}
